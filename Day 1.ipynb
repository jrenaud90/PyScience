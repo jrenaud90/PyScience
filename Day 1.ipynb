{
 "cells": [
  {
   "cell_type": "markdown",
   "metadata": {},
   "source": [
    "# Python for Scientists\n",
    "## Day 1 Notebook\n",
    "This notebook was developed for the NASA Goddard Space Flight Center and CRESST II's post-baccalaureate program by [Joe P. Renaud](https://www.josephrenaud.com) in Spring, 2024.\n",
    "\n",
    "**Prerequisites for running this notebook**\n",
    "- Install Python 3.9+ (e.g., by using [Anaconda](https://www.anaconda.com/download))\n",
    "- (Optional but recommended) Create a new virtual environment or conda environment.\n",
    "    - For conda: `conda create -n PyScience python=\"3.11\"; conda activate PyScience`\n",
    "- Open a terminal and install packages using pip (or `conda install`):\n",
    "    - `pip install numpy scipy matplotlib jupyter`"
   ]
  },
  {
   "cell_type": "markdown",
   "metadata": {},
   "source": [
    "# Overview of Jupyter Notebooks"
   ]
  },
  {
   "cell_type": "code",
   "execution_count": null,
   "metadata": {},
   "outputs": [],
   "source": [
    "import numpy as np\n",
    "import matplotlib.pyplot as plt\n",
    "\n",
    "# Define variables and print them\n",
    "x = 20\n",
    "print(f\"x = {x}\")\n",
    "\n",
    "# Make and display plots\n",
    "x = np.linspace(0., 4. * np.pi, 50)\n",
    "y = np.sin(x)\n",
    "fig, ax = plt.subplots()\n",
    "ax.plot(x, y, c='r', label='My Data')\n",
    "ax.legend(loc='best')\n",
    "plt.show()"
   ]
  },
  {
   "cell_type": "code",
   "execution_count": null,
   "metadata": {},
   "outputs": [],
   "source": [
    "# Variables are saved by order the notebook's cell is executed, _not_ in order of appearance.\n",
    "print(x)"
   ]
  },
  {
   "cell_type": "code",
   "execution_count": null,
   "metadata": {},
   "outputs": [],
   "source": [
    "# The x variable has changed, go back to the previous cell and try printing it now.\n",
    "x = \"red\""
   ]
  },
  {
   "cell_type": "code",
   "execution_count": null,
   "metadata": {},
   "outputs": [],
   "source": [
    "# Other fun things you can do in a notebook\n",
    "ls"
   ]
  },
  {
   "cell_type": "markdown",
   "metadata": {},
   "source": [
    "# Python \"Basics\""
   ]
  },
  {
   "cell_type": "markdown",
   "metadata": {},
   "source": [
    "## Variables and Data Types\n",
    "Common Python and Numpy variables and data types."
   ]
  },
  {
   "cell_type": "code",
   "execution_count": null,
   "metadata": {},
   "outputs": [],
   "source": [
    "# We are skipping some types but can get into them if there is interest:\n",
    "# - Strings, tuples, classes, sets, iterables (generally)"
   ]
  },
  {
   "cell_type": "code",
   "execution_count": null,
   "metadata": {},
   "outputs": [],
   "source": [
    "# Floating Point Numbers, an imperfect necessity\n",
    "x = 1.0\n",
    "print(type(x))\n",
    "y = 1\n",
    "print(type(y))\n",
    "\n",
    "# All ways to define floats\n",
    "x = 1.0e-2\n",
    "x = 0.2E-1\n",
    "\n",
    "print(\"\\nBeware of the float!\")\n",
    "print(\"6.0/2.0 =\", 6.0/2.0)\n",
    "print(\"0.6/0.2 =\", 0.6/0.2)\n",
    "print(\"6.0/2.0 equals 0.6/0.2?\", 6.0/2.0 == 0.6/0.2)\n",
    "print(\"0.6//0.2 =\", 0.6//0.2)"
   ]
  },
  {
   "cell_type": "code",
   "execution_count": null,
   "metadata": {},
   "outputs": [],
   "source": [
    "# Lists\n",
    "print(\"\\nLists\")\n",
    "my_list = [1,2,3,4]\n",
    "print(\"my list:\", my_list)\n",
    "print(\"It has\", len(my_list), \"members.\")\n",
    "my_list.append(10)\n",
    "print(\"I can add 10 to it:\", my_list)\n",
    "for item in my_list:\n",
    "    print(\"This item is\", item)\n",
    "\n",
    "for i, item in enumerate(my_list):\n",
    "    print(\"Item\", i, \"is\", item)\n",
    "\n",
    "# \"Slicing\" a list\n",
    "print(\"Item 0:\", my_list[0])\n",
    "print(\"Items 2 to end:\", my_list[2:])\n",
    "print(\"Items 2 to 2nd from end:\", my_list[2:-1])\n",
    "print(\"Skip Every Other Item:\", my_list[0::2])\n",
    "print(\"Skip Every Other Item (Evens):\", my_list[1::2])\n",
    "\n",
    "# Loop over slices of a list\n",
    "for i, item in enumerate(my_list[0::2]):\n",
    "    print(\"Item\", i, \"is\", item)\n",
    "\n",
    "print(\"My original list\", my_list[:], \"Or I can just do:\", my_list)\n",
    "# Lists can be changed: They are \"mutable\"\n",
    "my_list[0] = 1000\n",
    "print(my_list)\n",
    "my_list[0:2] = [20, 25]\n",
    "print(my_list)\n",
    "# Notice that the slice is EXCLUSIVE (the value in spot \"2\" did not change)\n",
    "\n",
    "# List members do not need to be of the same type (aka: all integers); they are \"inhomogeneous\"\n",
    "t = \"Blue\"\n",
    "my_new_list = [1, 2, 3, 2/3, \"Hello There\", t]\n",
    "print(\"\\n\", my_new_list)"
   ]
  },
  {
   "cell_type": "code",
   "execution_count": null,
   "metadata": {},
   "outputs": [],
   "source": [
    "# Numpy Arrays work very similar to lists for 1-D data (but are much faster and more memory efficient)\n",
    "print(\"\\nNumpy Arrays\")\n",
    "my_array = np.asarray([1,2,3,4])\n",
    "print(\"my array:\", my_array)\n",
    "print(\"It has\", len(my_array), \"members.\")\n",
    "my_array = np.append(my_array, 10)  # There is a catch with the numpy append, see if you can figure it out or ask me about it!\n",
    "print(\"I can add 10 to it:\", my_array)\n",
    "for item in my_array:\n",
    "    print(\"This item is\", item)\n",
    "\n",
    "for i, item in enumerate(my_array):\n",
    "    print(\"Item\", i, \"is\", item)\n",
    "\n",
    "print(\"Item 0:\", my_array[0])\n",
    "print(\"Items 2 to end:\", my_array[2:])\n",
    "print(\"Items 2 to 2nd from end:\", my_array[2:-1])\n",
    "print(\"Skip Every Other Item:\", my_array[0::2])\n",
    "print(\"Skip Every Other Item (Evens):\", my_array[1::2])\n",
    "print(\"My original list\", my_list[:], \"Or I can just do:\", my_array)\n",
    "# Numpy arrays are also mutable\n",
    "my_array[0] = 1000\n",
    "print(my_array)\n",
    "my_array[0:2] = [20, 25]\n",
    "print(my_array)"
   ]
  },
  {
   "cell_type": "markdown",
   "metadata": {},
   "source": [
    "### Differences between Python lists and numpy arrays"
   ]
  },
  {
   "cell_type": "code",
   "execution_count": null,
   "metadata": {},
   "outputs": [],
   "source": [
    "# Most* Numpy arrays are homogenous; lists are inhomogeneous. \n",
    "my_list = [0., 2, 'blue']\n",
    "print(my_list)\n",
    "my_array = np.asarray([0., 2, 'blue'])\n",
    "print(my_array)\n",
    "# This works!\n",
    "\n",
    "my_list = [0, 1, 2]\n",
    "my_list[1] = 'Blue'\n",
    "print(my_list)\n",
    "my_array = np.asarray([0, 1, 2])\n",
    "my_array[1] = 'Blue'\n",
    "# Error. Once a numpy array has been built its type is set and can not be changed. "
   ]
  },
  {
   "cell_type": "code",
   "execution_count": null,
   "metadata": {},
   "outputs": [],
   "source": [
    "# 2+ Dimensional data is easier (and faster) to work with using numpy arrays\n",
    "my_2D_list = [\n",
    "    [0, 1, 2],\n",
    "    [3, 4, 5],\n",
    "    [6, 7, 8]\n",
    "]\n",
    "print('Row 2, Column 3 item: ', my_2D_list[1][2])\n",
    "\n",
    "# Notice the difference in how we access the item\n",
    "my_2D_array = np.asarray(my_2D_list)\n",
    "print('Row 2, Column 3 item: ', my_2D_array[1, 2])\n",
    "\n",
    "# Quickly learn details about an array\n",
    "print('Array type: ', my_2D_array.dtype)\n",
    "print('Array size (total number of members): ', my_2D_array.size)\n",
    "print('Array shape (size in each dimension): ', my_2D_array.shape)"
   ]
  },
  {
   "cell_type": "code",
   "execution_count": 55,
   "metadata": {},
   "outputs": [
    {
     "name": "stdout",
     "output_type": "stream",
     "text": [
      "Original Array:\n",
      " [[0 1 2]\n",
      " [3 4 5]\n",
      " [6 7 8]] \n",
      "\n",
      "Original List:\n",
      " [[0, 1, 2], [3, 4, 5], [6, 7, 8]] \n",
      "\n",
      "Doubled Array:\n",
      " [[ 0  2  4]\n",
      " [ 6  8 10]\n",
      " [12 14 16]] \n",
      "\n",
      "Doubled List:\n",
      " [[0, 1, 2], [3, 4, 5], [6, 7, 8], [0, 1, 2], [3, 4, 5], [6, 7, 8]] \n",
      "\n",
      "Squared Array:\n",
      " [[ 0  1  4]\n",
      " [ 9 16 25]\n",
      " [36 49 64]] \n",
      "\n"
     ]
    },
    {
     "ename": "TypeError",
     "evalue": "unsupported operand type(s) for ** or pow(): 'list' and 'int'",
     "output_type": "error",
     "traceback": [
      "\u001b[1;31m---------------------------------------------------------------------------\u001b[0m",
      "\u001b[1;31mTypeError\u001b[0m                                 Traceback (most recent call last)",
      "Cell \u001b[1;32mIn[55], line 11\u001b[0m\n\u001b[0;32m      9\u001b[0m \u001b[38;5;66;03m# Take the square of the 2D array.\u001b[39;00m\n\u001b[0;32m     10\u001b[0m \u001b[38;5;28mprint\u001b[39m(\u001b[38;5;124m'\u001b[39m\u001b[38;5;124mSquared Array:\u001b[39m\u001b[38;5;130;01m\\n\u001b[39;00m\u001b[38;5;124m'\u001b[39m, my_2D_array\u001b[38;5;241m*\u001b[39m\u001b[38;5;241m*\u001b[39m\u001b[38;5;241m2\u001b[39m, \u001b[38;5;124m'\u001b[39m\u001b[38;5;130;01m\\n\u001b[39;00m\u001b[38;5;124m'\u001b[39m)  \u001b[38;5;66;03m# <-- Success!\u001b[39;00m\n\u001b[1;32m---> 11\u001b[0m \u001b[38;5;28mprint\u001b[39m(\u001b[38;5;124m'\u001b[39m\u001b[38;5;124mSquared List:\u001b[39m\u001b[38;5;130;01m\\n\u001b[39;00m\u001b[38;5;124m'\u001b[39m, my_2D_list\u001b[38;5;241m*\u001b[39m\u001b[38;5;241m*\u001b[39m\u001b[38;5;241m2\u001b[39m, \u001b[38;5;124m'\u001b[39m\u001b[38;5;130;01m\\n\u001b[39;00m\u001b[38;5;124m'\u001b[39m)\n",
      "\u001b[1;31mTypeError\u001b[0m: unsupported operand type(s) for ** or pow(): 'list' and 'int'"
     ]
    }
   ],
   "source": [
    "# Lots of different kinds of math can be performed on a numpy arrays directly.\n",
    "print('Original Array:\\n', my_2D_array, '\\n')\n",
    "print('Original List:\\n', my_2D_list, '\\n')\n",
    "\n",
    "# Multiply array by 2\n",
    "print('Doubled Array:\\n', my_2D_array * 2, '\\n')  # <-- Success!\n",
    "print('Doubled List:\\n', my_2D_list * 2, '\\n')   # <-- No Error, but probably not what you were looking for...\n",
    "\n",
    "# Take the square of the 2D array.\n",
    "print('Squared Array:\\n', my_2D_array**2, '\\n')  # <-- Success!\n",
    "print('Squared List:\\n', my_2D_list**2, '\\n')   # <-- Error\n"
   ]
  },
  {
   "cell_type": "code",
   "execution_count": 59,
   "metadata": {},
   "outputs": [
    {
     "name": "stdout",
     "output_type": "stream",
     "text": [
      "[[0 1 2]\n",
      " [3 4 5]\n",
      " [6 7 8]] \n",
      "\n",
      " [0 2 4 6 8] \n",
      "\n",
      "9 (3, 3) bool\n"
     ]
    }
   ],
   "source": [
    "# Numpy allows for \"masking\" data which is just a fancy way to slice an array.\n",
    "# Create a boolean (True/False) mask array for our 2D array\n",
    "\n",
    "# Python's modulus 2 function will produce zeros where ever the array can be evenly divided by 2 (evens)\n",
    "mod_2 = my_2D_array % 2\n",
    "# We will create a mask where ever there are zeros using a \"==\" comparison\n",
    "only_evens_mask = mod_2 == 0\n",
    "\n",
    "# Can apply this to our original array\n",
    "print(my_2D_array, '\\n\\n', my_2D_array[only_evens_mask], '\\n')\n",
    "\n",
    "# The mask is a regular numpy array so has all the same features\n",
    "print(only_evens_mask.size, only_evens_mask.shape, only_evens_mask.dtype)"
   ]
  },
  {
   "cell_type": "markdown",
   "metadata": {},
   "source": [
    "## Functions"
   ]
  },
  {
   "cell_type": "code",
   "execution_count": null,
   "metadata": {},
   "outputs": [],
   "source": [
    "# How do we make functions?\n",
    "def my_func(x):\n",
    "    if x <= 5:\n",
    "        return x\n",
    "    else:\n",
    "        return -x\n",
    "\n",
    "out = my_func(10)\n",
    "print(out)"
   ]
  },
  {
   "cell_type": "code",
   "execution_count": null,
   "metadata": {},
   "outputs": [],
   "source": [
    "# Why do we make functions?\n",
    "#  - Reduce duplication of code: making debugging easier, potentially improving performance\n",
    "\n",
    "x = np.linspace(0., 2.0 * np.pi, 50)\n",
    "y = np.sin(x)\n",
    "\n",
    "def make_plot(*data):\n",
    "    \n",
    "    x_array = data[0]\n",
    "    y_array = data[1]\n",
    "\n",
    "    fig, ax = plt.subplots()\n",
    "    ax.plot(x_array, y_array, c='r')\n",
    "\n",
    "    ax.set(title='My Plot', xlabel=\"$\\\\eta$ [Deg.]\", ylabel='$\\\\mu^2$ [m s$^{-20}$]', yscale='linear', xscale='linear')\n",
    "\n",
    "    return fig, ax\n",
    "\n",
    "# Now we have one function that we can use to make a bunch of different plots without having to repeat\n",
    "make_plot(x, y)\n",
    "y_2 = np.cos(x)\n",
    "make_plot(x, y_2)\n",
    "y_3 = np.tan(x)\n",
    "make_plot(x, y_3)\n",
    "\n",
    "# And it is easy to make changes when one plot should have, for example, a different title than another.\n",
    "fig_1, ax_1 = make_plot(x, y_2)\n",
    "ax_1.set(title='My Other Plot')\n",
    "plt.show()"
   ]
  },
  {
   "cell_type": "code",
   "execution_count": null,
   "metadata": {},
   "outputs": [],
   "source": [
    "# Another use for functions is to perform complex calculations on arrays of data, called \"vectorizing\"\n",
    "array = np.linspace(0, 10, 4, dtype=np.float64)\n",
    "\n",
    "my_func_vectorized = np.vectorize(my_func)\n",
    "# Pause point: What _is_ the `my_func_vectorized` variable right now?\n",
    "# Answer: it is a numpy class function (a python class) that now takes an array rather than a float.\n",
    "print(type(my_func_vectorized))\n",
    "array_2 = my_func_vectorized(array)\n",
    "print('Function Applied to an Array: ', array_2)\n",
    "\n",
    "# Try to uncomment the below and see what happens if we did not use the np.vectorize function\n",
    "# array_3 = my_func(array)\n",
    "\n",
    "# Now if we ever want to change the behavior of our function we can just change the definition of my_func rather\n",
    "# than finding all of the instances where the functionality was implemented manually.\n",
    "\n",
    "# A lot of common functions have probably already been made by others and included in various packages. \n",
    "# Many of these already work with arrays without you having to do anything. \n",
    "print('Sin: ', np.sin(array))\n",
    "print('Cos: ', np.cos(array))\n",
    "print('Exp: ', np.exp(array))\n",
    "\n",
    "from scipy.special import gamma\n",
    "print('Gamma: ', gamma(array))"
   ]
  },
  {
   "cell_type": "markdown",
   "metadata": {},
   "source": [
    "# Python Gotchas"
   ]
  },
  {
   "cell_type": "markdown",
   "metadata": {},
   "source": [
    "## Variable Scope\n",
    "Local vs. global variable scope."
   ]
  },
  {
   "cell_type": "code",
   "execution_count": null,
   "metadata": {},
   "outputs": [],
   "source": [
    "# Before you run this cell, what do you think will be printed?\n",
    "\n",
    "x = [0, 3, 7]\n",
    "\n",
    "def my_func(x):\n",
    "\n",
    "    x = \"blue\"\n",
    "    return x\n",
    "\n",
    "my_func(x)\n",
    "print(x)\n",
    "\n",
    "# Uncomment the code below each \"pause point\" as you work through this cell\n",
    "# Pause Point 1\n",
    "# x = my_func(x)\n",
    "# print(x)\n",
    "\n",
    "\n",
    "# Pause Point 2\n",
    "# x = [0, 3, 7]\n",
    "# def my_func(y):\n",
    "#     global x\n",
    "#     x = \"blue\"\n",
    "#     return x\n",
    "\n",
    "# my_func(x)\n",
    "# print(x)\n",
    "\n",
    "# Pause Point 3\n",
    "x = [0, 3, 7]\n",
    "\n",
    "def my_func(x):\n",
    "\n",
    "    x[1] = \"blue\"\n",
    "    return x\n",
    "\n",
    "my_func(x)\n",
    "print(x)"
   ]
  },
  {
   "cell_type": "code",
   "execution_count": null,
   "metadata": {},
   "outputs": [],
   "source": []
  },
  {
   "cell_type": "code",
   "execution_count": null,
   "metadata": {},
   "outputs": [],
   "source": [
    "# How about now?\n",
    "\n",
    "x = [0, 3, 7]\n",
    "\n",
    "def my_func(x):\n",
    "\n",
    "    x = \"blue\"\n",
    "    return x\n",
    "\n",
    "x = my_func(x)\n",
    "print(x)"
   ]
  },
  {
   "cell_type": "code",
   "execution_count": null,
   "metadata": {},
   "outputs": [],
   "source": []
  }
 ],
 "metadata": {
  "kernelspec": {
   "display_name": "Python 3",
   "language": "python",
   "name": "python3"
  },
  "language_info": {
   "codemirror_mode": {
    "name": "ipython",
    "version": 3
   },
   "file_extension": ".py",
   "mimetype": "text/x-python",
   "name": "python",
   "nbconvert_exporter": "python",
   "pygments_lexer": "ipython3",
   "version": "3.11.8"
  }
 },
 "nbformat": 4,
 "nbformat_minor": 2
}
