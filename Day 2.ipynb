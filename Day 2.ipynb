{
 "cells": [
  {
   "cell_type": "markdown",
   "metadata": {},
   "source": [
    "# Python for Scientists\n",
    "## Day 2 Notebook\n",
    "This notebook was developed for the NASA Goddard Space Flight Center and CRESST II's post-baccalaureate program by [Joe P. Renaud](https://www.josephrenaud.com) in Spring, 2024.\n",
    "\n",
    "**Prerequisites for running this notebook**\n",
    "- All the pre-reqs for Day 1 plus...\n",
    "- Open val1 terminal and install packages using pip (or `conda install`):\n",
    "    - `pip install astropy pytest numba`"
   ]
  },
  {
   "cell_type": "markdown",
   "metadata": {},
   "source": [
    "## Improving Python's Performance\n",
    "### How to test performance"
   ]
  },
  {
   "cell_type": "code",
   "execution_count": 1,
   "metadata": {},
   "outputs": [
    {
     "name": "stdout",
     "output_type": "stream",
     "text": [
      "[10.          9.7979798   9.5959596   9.39393939  9.19191919  8.98989899\n",
      "  8.78787879  8.58585859  8.38383838  8.18181818  7.97979798  7.77777778\n",
      "  7.57575758  7.37373737  7.17171717  6.96969697  6.76767677  6.56565657\n",
      "  6.36363636  6.16161616  5.95959596  5.75757576  5.55555556  5.35353535\n",
      "  5.15151515  4.94949495  4.74747475  4.54545455  4.34343434  4.14141414\n",
      "  3.93939394  3.73737374  3.53535354  3.33333333  3.13131313  2.92929293\n",
      "  2.72727273  2.52525253  2.32323232  2.12121212  1.91919192  1.71717172\n",
      "  1.51515152  1.31313131  1.11111111  0.90909091  0.70707071  0.50505051\n",
      "  0.3030303   0.1010101   0.1010101   0.3030303   0.50505051  0.70707071\n",
      "  0.90909091  1.11111111  1.31313131  1.51515152  1.71717172  1.91919192\n",
      "  2.12121212  2.32323232  2.52525253  2.72727273  2.92929293  3.13131313\n",
      "  3.33333333  3.53535354  3.73737374  3.93939394  4.14141414  4.34343434\n",
      "  4.54545455  4.74747475  4.94949495  5.15151515  5.35353535  5.55555556\n",
      "  5.75757576  5.95959596  6.16161616  6.36363636  6.56565657  6.76767677\n",
      "  6.96969697  7.17171717  7.37373737  7.57575758  7.77777778  7.97979798\n",
      "  8.18181818  8.38383838  8.58585859  8.78787879  8.98989899  9.19191919\n",
      "  9.39393939  9.5959596   9.7979798  10.        ]\n"
     ]
    }
   ],
   "source": [
    "import numpy as np\n",
    "\n",
    "def my_func(an_array):\n",
    "    return np.abs(an_array)\n",
    "\n",
    "x = np.linspace(-10., 10., 100, dtype=np.float64)\n",
    "\n",
    "print(my_func(x))"
   ]
  },
  {
   "cell_type": "code",
   "execution_count": 8,
   "metadata": {},
   "outputs": [
    {
     "name": "stdout",
     "output_type": "stream",
     "text": [
      "785 ns ± 6.01 ns per loop (mean ± std. dev. of 7 runs, 1,000,000 loops each)\n",
      "735 ns ± 2.02 ns per loop (mean ± std. dev. of 7 runs, 1,000,000 loops each)\n"
     ]
    }
   ],
   "source": [
    "# All this function does is \"wrap\" a numpy function. Meaning that `my_func` should always be slower than just calling `np.abs` by itself\n",
    "# Let's see if that is true using some Jupyter Notebook \"magic\"\n",
    "\n",
    "# Our function\n",
    "%timeit my_func(x)\n",
    "\n",
    "# Numpy's standalone\n",
    "%timeit np.abs(x)\n",
    "\n",
    "# Depending on your computer you should see that our function is slightly slower than pure numpy"
   ]
  },
  {
   "cell_type": "markdown",
   "metadata": {},
   "source": [
    "### Creating high-performance functions\n",
    "Python is classically called a \"slow\" language. There is truth to that and lots of reasons why Python is slower than languages like C or Fortran.\n",
    "But there are tricks we can use to greatly improve the speed of Python with very little work on our part. And never needing learn and write C."
   ]
  },
  {
   "cell_type": "code",
   "execution_count": 2,
   "metadata": {},
   "outputs": [
    {
     "name": "stdout",
     "output_type": "stream",
     "text": [
      "Shape: (500, 110, 120)\n",
      "Size: 6600000\n"
     ]
    }
   ],
   "source": [
    "# First let's make a function that we can use to compare against. This will work on a 3D numpy array.\n",
    "\n",
    "def python_func(array_3d):\n",
    "\n",
    "    # Get the size of each dimension\n",
    "    x_len, y_len, z_len = array_3d.shape\n",
    "\n",
    "    output = 0\n",
    "    for i in range(x_len):\n",
    "        for j in range(y_len):\n",
    "            for k in range(z_len):\n",
    "\n",
    "                # Output is a sum of each member of the array minus that item's x-location\n",
    "                output += array_3d[i, j, k] - i\n",
    "    return output\n",
    "\n",
    "# Let's make a large random 3D array to test this on\n",
    "test_array = np.random.rand(500, 110, 120)\n",
    "print(\"Shape:\", test_array.shape)\n",
    "print(\"Size:\", test_array.size)"
   ]
  },
  {
   "cell_type": "code",
   "execution_count": 12,
   "metadata": {},
   "outputs": [
    {
     "name": "stdout",
     "output_type": "stream",
     "text": [
      "Result: -1643400410.8\n",
      "1.35 s ± 9.84 ms per loop (mean ± std. dev. of 7 runs, 1 loop each)\n"
     ]
    }
   ],
   "source": [
    "# Run our function on this array\n",
    "print(f\"Result: {python_func(test_array):0.1f}\")\n",
    "\n",
    "# And then time it\n",
    "%timeit python_func(test_array)\n",
    "# On my computer this took around 1.35 seconds to run. Let's see how we can improve this."
   ]
  },
  {
   "cell_type": "code",
   "execution_count": 3,
   "metadata": {},
   "outputs": [],
   "source": [
    "# The best advice for improving performance of Python when working with arrays of data is to use numpy instead.\n",
    "\n",
    "def numpy_func(array_3d):\n",
    "\n",
    "    # The sum of all the members of the array is easy to do in numpy:\n",
    "    # sum = np.sum(array_3d)\n",
    "\n",
    "    # But we need to subtract off the x-location for each value before we add it. Let's do that first.\n",
    "    # Make a new array with x locations\n",
    "    x_len, y_len, z_len = array_3d.shape\n",
    "    x_locations = np.arange(0, x_len)\n",
    "\n",
    "    # To perform the subtraction we can make use of Numpy's newaxis feature\n",
    "    # Read more about it here: https://numpy.org/doc/stable/user/basics.indexing.html#dimensional-indexing-tools\n",
    "    array_subtract = array_3d - x_locations[:, np.newaxis, np.newaxis]\n",
    "\n",
    "    # Now we can perform the sum on the new subtracted 3D array\n",
    "    result = np.sum(array_subtract)\n",
    "    return result\n"
   ]
  },
  {
   "cell_type": "code",
   "execution_count": 11,
   "metadata": {},
   "outputs": [
    {
     "name": "stdout",
     "output_type": "stream",
     "text": [
      "Numpy Result: -1643400410.8\n",
      "25.4 ms ± 1.55 ms per loop (mean ± std. dev. of 7 runs, 10 loops each)\n"
     ]
    }
   ],
   "source": [
    "# Test to see if we get the same answer as before\n",
    "print(f\"Numpy Result: {numpy_func(test_array):0.1f}\")\n",
    "\n",
    "# And then time it\n",
    "%timeit numpy_func(test_array)\n",
    "# On my computer this took around 25.4ms. Or about 53x faster"
   ]
  },
  {
   "cell_type": "code",
   "execution_count": 4,
   "metadata": {},
   "outputs": [],
   "source": [
    "# That numpy function is great but we had to have known about the np.newaxis trick. \n",
    "# We may not always know about those tricks or they may not exist. What if we really need to use the method with 3 for loops?\n",
    "# Well there is another tool we can turn to that does not require us to do any additional work (at least for our example here)\n",
    "\n",
    "# Let us rewrite our function but this time apply the `numba` package's `njit` \"decorator\"\n",
    "import numba as nb\n",
    "\n",
    "@nb.njit\n",
    "def numba_func(array_3d):\n",
    "\n",
    "    # Get the size of each dimension\n",
    "    x_len, y_len, z_len = array_3d.shape\n",
    "\n",
    "    output = 0\n",
    "    for i in range(x_len):\n",
    "        for j in range(y_len):\n",
    "            for k in range(z_len):\n",
    "\n",
    "                # Output is a sum of each member of the array minus that item's x-location\n",
    "                output += array_3d[i, j, k] - i\n",
    "    return output"
   ]
  },
  {
   "cell_type": "code",
   "execution_count": 5,
   "metadata": {},
   "outputs": [
    {
     "name": "stdout",
     "output_type": "stream",
     "text": [
      "Numpy Result: -1643398861.5\n",
      "6.09 ms ± 149 µs per loop (mean ± std. dev. of 7 runs, 100 loops each)\n",
      "Result: -1643398861.5\n",
      "Running Python took 1.45048 seconds.\n",
      "The _first_ time numba was run it took 0.40812 seconds.\n"
     ]
    }
   ],
   "source": [
    "# Like before, let's see if we get the same answer\n",
    "import time\n",
    "t0_nba = time.time()\n",
    "print(f\"Numpy Result: {numba_func(test_array):0.1f}\")\n",
    "tf_nba = time.time()\n",
    "\n",
    "# And then time it\n",
    "%timeit numba_func(test_array)\n",
    "# On my computer this took around 6.07ms. 220x faster than Python and almost 10x faster than numpy!\n",
    "\n",
    "# \"startup\" costs\n",
    "t0_python = time.time()\n",
    "print(f\"Result: {python_func(test_array):0.1f}\")\n",
    "t1_python = time.time()\n",
    "\n",
    "print(f'\\n\\nRunning Python took {t1_python-t0_python:0.5f} seconds.')\n",
    "print(f'The _first_ time numba was run it took {tf_nba-t0_nba:0.5f} seconds.')  # ~0.4 seconds compared to 6.07ms\n"
   ]
  },
  {
   "cell_type": "markdown",
   "metadata": {},
   "source": [
    "Numba is a great solution for quickly speeding up python functions but there are some catches and limitations.\n",
    "- It will always be slow (sometimes very slow) the _first_ time it is called on a new type of input.\n",
    "- It does not work with a lot of 3rd party packages. \n",
    "    - It can be used in functions that use some numpy and scipy functions. Most other 3rd party packages are not supported.\n",
    "- Occasionally it can be a pain to use and tricky to debug. \n",
    "\n",
    "Recommendation:\n",
    "- If you have a function that performs simple operations on an array: Try to just use numpy tricks.\n",
    "- If you can't figure out a numpy trick that works _AND_ your function does not depend on other 3rd party packages: try out numba.\n",
    "- If your function does depend on other packages try to isolate parts that do not and wrap them in a numba function.\n",
    "\n",
    "There are other performance tricks within python itself and other 3rd party packages (check out `Cython` as an alternative to numba)."
   ]
  },
  {
   "cell_type": "markdown",
   "metadata": {},
   "source": [
    "## Debugging Python\n",
    "Debugging is always _fun_. The best way to debug is to not debug at all. You would be surprised how much you can avoid by having proper unit tests (see later section). \n",
    "\n",
    "However, no matter how much you try to avoid it, you will have to debug eventually. "
   ]
  },
  {
   "cell_type": "code",
   "execution_count": 6,
   "metadata": {},
   "outputs": [
    {
     "name": "stdout",
     "output_type": "stream",
     "text": [
      "0\n"
     ]
    }
   ],
   "source": [
    "# `print` debugging - Simply add print statements everywhere.\n",
    "\n",
    "# Suppose there is a function that is not giving me the correct result\n",
    "\n",
    "def broken_func(scale, b):\n",
    "\n",
    "    if scale < 0 and b > 0:\n",
    "        return b\n",
    "    elif scale > 0 and b > 0:\n",
    "        return b - scale\n",
    "    else:\n",
    "        return scale\n",
    "\n",
    "print(broken_func(0, 3))  # I am expecting to get back 3 - 0 == 3; but I get back 0.\n"
   ]
  },
  {
   "cell_type": "code",
   "execution_count": 7,
   "metadata": {},
   "outputs": [
    {
     "name": "stdout",
     "output_type": "stream",
     "text": [
      "Func Start a=0, b=3\n",
      "Check 3\n",
      "0\n"
     ]
    }
   ],
   "source": [
    "# I can add print commands everywhere to find the problem\n",
    "def broken_func2(a, b):\n",
    "    \n",
    "    print(f'Func Start scale={scale}, b={b}')\n",
    "    if scale < 0 and b > 0:\n",
    "        print('Check 1')\n",
    "        return b\n",
    "    elif scale > 0 and b > 0:\n",
    "        print('Check 2')\n",
    "        return b - scale\n",
    "    else:\n",
    "        print('Check 3')\n",
    "        return scale\n",
    "\n",
    "print(broken_func2(0, 3))\n",
    "# Now I can see that the code never reaches check 2. I see the bug is caused by \"a > 0\" should be \"a >= 0\""
   ]
  },
  {
   "cell_type": "code",
   "execution_count": 8,
   "metadata": {},
   "outputs": [
    {
     "name": "stdout",
     "output_type": "stream",
     "text": [
      "Func Start a=0, b=3\n",
      "> \u001b[1;32mc:\\users\\jrenaud\\appdata\\local\\temp\\1\\ipykernel_18120\\2001527067.py\u001b[0m(11)\u001b[0;36mbroken_func3\u001b[1;34m()\u001b[0m\n",
      "\n",
      "a = 0\n",
      "b = 3\n",
      "a = 0\n",
      "b = 3\n",
      "3\n"
     ]
    }
   ],
   "source": [
    "# We can also use Python's built in debugger \"pdb.set_trace()\" to create an interactive terminal for us to explore variables\n",
    "# Note that newer versions of python allow you to replace \"pdb.set_trace()\" with simply \"breakpoint\", but this currently does not work in jupyter notebooks.\n",
    "\n",
    "def broken_func3(scale, b):\n",
    "    \n",
    "    print(f'Func Start scale={scale}, b={b}')\n",
    "\n",
    "    import pdb\n",
    "    pdb.set_trace()\n",
    "\n",
    "    if scale < 0 and b > 0:\n",
    "        print('Check 1')\n",
    "        return b\n",
    "    elif scale > 0 and b > 0:\n",
    "        print('Check 2')\n",
    "        return b - scale\n",
    "    else:\n",
    "        print('Check 3')\n",
    "        return scale\n",
    "\n",
    "print(broken_func3(0, 3))"
   ]
  },
  {
   "cell_type": "markdown",
   "metadata": {},
   "source": [
    "## Astropy Interactions"
   ]
  },
  {
   "cell_type": "markdown",
   "metadata": {},
   "source": [
    "## Unit Testing"
   ]
  },
  {
   "cell_type": "markdown",
   "metadata": {},
   "source": [
    "# Challenges"
   ]
  }
 ],
 "metadata": {
  "kernelspec": {
   "display_name": "Python 3",
   "language": "python",
   "name": "python3"
  },
  "language_info": {
   "codemirror_mode": {
    "name": "ipython",
    "version": 3
   },
   "file_extension": ".py",
   "mimetype": "text/x-python",
   "name": "python",
   "nbconvert_exporter": "python",
   "pygments_lexer": "ipython3",
   "version": "3.11.5"
  }
 },
 "nbformat": 4,
 "nbformat_minor": 2
}
